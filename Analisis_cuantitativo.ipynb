{
  "nbformat": 4,
  "nbformat_minor": 0,
  "metadata": {
    "colab": {
      "name": "Analisis cuantitativo ",
      "provenance": [],
      "authorship_tag": "ABX9TyP12J1cRn+zLlhEgEcIt88R",
      "include_colab_link": true
    },
    "kernelspec": {
      "name": "python3",
      "display_name": "Python 3"
    },
    "language_info": {
      "name": "python"
    }
  },
  "cells": [
    {
      "cell_type": "markdown",
      "metadata": {
        "id": "view-in-github",
        "colab_type": "text"
      },
      "source": [
        "<a href=\"https://colab.research.google.com/github/NataliaValero/An-lisis-cuantitativo-de-acciones/blob/main/Analisis_cuantitativo.ipynb\" target=\"_parent\"><img src=\"https://colab.research.google.com/assets/colab-badge.svg\" alt=\"Open In Colab\"/></a>"
      ]
    },
    {
      "cell_type": "markdown",
      "source": [
        "#**1. Análisis cuantitativo de acciones**\n",
        "\n",
        "El mecardo bursátil está abierto a muchas oportunidades, es por esta razón que los inversionistas van a la bolsa de valores en busca de obtener rentabilidades mediante la compra de acciones. Comprar una accion significa depositar confianza en las actividades y decisiones que una empresa proyecta a futuro.\n",
        "\n",
        "Para entender el funcionamiento de una empresa es importante realizar un estudio financiero que nos permita identificar patrones antes de tomar una decisión de compra o venta. Este proceso se conoce como analisis cuantitativo y consiste en una serie de tecnicas y procedimientos matematicos y estadisticos que permiten analizar la informacion financiera para obtener una vision objetiva acerca de la situacion actual de una empresa y que proyecciones pueden tener a futuro.\n",
        "\n",
        "En este notebook vamos a realizar un análisis cuantitativo básico con datos extraídos de la página de Yahoo Finance mediante la API (yfinance) para las acciones de Meta, Google y Twitter."
      ],
      "metadata": {
        "id": "FELn9H6Q5iaH"
      }
    },
    {
      "cell_type": "markdown",
      "source": [
        "Este analisis estara dividido en tres partes:\n",
        "\n",
        "**1. Tendencia de precios:** Identificar la tendencia del precio de las acciones a través de periodos de tiempo (1 año y 10 años).\n",
        "\n",
        "**2. Indicadores relacionados con acciones:** Price to book, Price to ratio y relación Cash VS debt.\n",
        " \n",
        "**3. Income statement:** Realizar una evaluacion del estado de resultados (Total Revenue, el Gross profit, Operating Income Revenue y el net income) para evaluar el desempeño financiero de las empresas.\n",
        "\n",
        "**4. Indicadores de rentabilidad:** Calcular el margen bruto, margen operacional y margen neto."
      ],
      "metadata": {
        "id": "fSXJQxWr9o0f"
      }
    },
    {
      "cell_type": "code",
      "source": [
        "# instalar yfinance\n",
        "\n",
        "pip install yfinance"
      ],
      "metadata": {
        "colab": {
          "base_uri": "https://localhost:8080/"
        },
        "id": "aPB-vA8IBZJw",
        "outputId": "b5c5fd35-ff1b-4366-d59e-2c2b8f1d75ab"
      },
      "execution_count": 5,
      "outputs": [
        {
          "output_type": "stream",
          "name": "stdout",
          "text": [
            "Looking in indexes: https://pypi.org/simple, https://us-python.pkg.dev/colab-wheels/public/simple/\n",
            "Requirement already satisfied: yfinance in /usr/local/lib/python3.7/dist-packages (0.1.74)\n",
            "Requirement already satisfied: numpy>=1.15 in /usr/local/lib/python3.7/dist-packages (from yfinance) (1.21.6)\n",
            "Requirement already satisfied: pandas>=0.24.0 in /usr/local/lib/python3.7/dist-packages (from yfinance) (1.3.5)\n",
            "Requirement already satisfied: lxml>=4.5.1 in /usr/local/lib/python3.7/dist-packages (from yfinance) (4.9.1)\n",
            "Requirement already satisfied: requests>=2.26 in /usr/local/lib/python3.7/dist-packages (from yfinance) (2.28.1)\n",
            "Requirement already satisfied: multitasking>=0.0.7 in /usr/local/lib/python3.7/dist-packages (from yfinance) (0.0.11)\n",
            "Requirement already satisfied: pytz>=2017.3 in /usr/local/lib/python3.7/dist-packages (from pandas>=0.24.0->yfinance) (2022.1)\n",
            "Requirement already satisfied: python-dateutil>=2.7.3 in /usr/local/lib/python3.7/dist-packages (from pandas>=0.24.0->yfinance) (2.8.2)\n",
            "Requirement already satisfied: six>=1.5 in /usr/local/lib/python3.7/dist-packages (from python-dateutil>=2.7.3->pandas>=0.24.0->yfinance) (1.15.0)\n",
            "Requirement already satisfied: idna<4,>=2.5 in /usr/local/lib/python3.7/dist-packages (from requests>=2.26->yfinance) (2.10)\n",
            "Requirement already satisfied: urllib3<1.27,>=1.21.1 in /usr/local/lib/python3.7/dist-packages (from requests>=2.26->yfinance) (1.24.3)\n",
            "Requirement already satisfied: charset-normalizer<3,>=2 in /usr/local/lib/python3.7/dist-packages (from requests>=2.26->yfinance) (2.1.0)\n",
            "Requirement already satisfied: certifi>=2017.4.17 in /usr/local/lib/python3.7/dist-packages (from requests>=2.26->yfinance) (2022.6.15)\n"
          ]
        }
      ]
    },
    {
      "cell_type": "code",
      "source": [
        "# Importar librerias\n",
        "\n",
        "import yfinance as yf\n",
        "import pandas as pd\n",
        "import matplotlib.pyplot as plt\n",
        "\n",
        "# Configurar los plots\n",
        "#plt.style.use('classic')\n",
        "plt.style.use('classic')\n"
      ],
      "metadata": {
        "id": "j69z593gBSgw"
      },
      "execution_count": 6,
      "outputs": []
    },
    {
      "cell_type": "markdown",
      "source": [
        "#**2. Tendencia de precios**\n",
        "\n",
        "Vamos a revisar los precios en diferentes periodos de tiempo, primero veamos los precios de hace 1 año y vamos a ver en un gráfico la línea de tendencia del precio de cierre con intervalo diario."
      ],
      "metadata": {
        "id": "pBEVPWY4BFpX"
      }
    },
    {
      "cell_type": "code",
      "source": [
        "# Lista de stocks\n",
        "\n",
        "tickers = yf.Tickers('META GOOG TWTR')"
      ],
      "metadata": {
        "id": "4rdVWIhoFE-5"
      },
      "execution_count": 7,
      "outputs": []
    },
    {
      "cell_type": "markdown",
      "source": [
        "#**3. Datos históricos: Período 1 año**\n",
        "\n",
        "Para obtener los precios históricos utilizamos el método de historial que ofrece la API y pasamos el periodo a analizar y el intervalo en el que queremos los datos como parámetro, en este caso intervalo diario."
      ],
      "metadata": {
        "id": "1eYXGNlTE8Bw"
      }
    },
    {
      "cell_type": "code",
      "source": [
        "# descargamos el precio de cierre para las tres acciones de 1 año\n",
        "data_1_anio = tickers.history( period = '1y', interval = '1d', rounding = True)['Close']\n",
        "print(data_1_anio.tail(10),'\\n')\n",
        "\n",
        "# Resumen de los datos\n",
        "print(data_1_anio.describe(),'\\n')\n",
        "\n",
        "# visualizacion del precio\n",
        "data_1_anio.plot(kind = 'line', title ='Historical prices (1 year)',subplots= True)\n",
        "\n",
        "# mostrar el plot\n",
        "plt.show()"
      ],
      "metadata": {
        "colab": {
          "base_uri": "https://localhost:8080/",
          "height": 891
        },
        "id": "WshirmIcCAEr",
        "outputId": "6077ec44-06ec-41b9-e6ce-04f01ff03d8c"
      },
      "execution_count": 129,
      "outputs": [
        {
          "output_type": "stream",
          "name": "stdout",
          "text": [
            "[*********************100%***********************]  3 of 3 completed\n",
            "              GOOG    META   TWTR\n",
            "Date                             \n",
            "2022-07-05  113.89  168.19  38.38\n",
            "2022-07-06  115.21  169.77  38.21\n",
            "2022-07-07  119.31  172.19  38.79\n",
            "2022-07-08  120.17  170.88  36.81\n",
            "2022-07-11  116.52  162.88  32.65\n",
            "2022-07-12  114.85  163.27  34.06\n",
            "2022-07-13  112.19  163.49  36.75\n",
            "2022-07-14  111.44  158.05  36.29\n",
            "2022-07-15  112.77  164.70  37.74\n",
            "2022-07-18     NaN  167.23  38.41 \n",
            "\n",
            "             GOOG        META        TWTR\n",
            "count  251.000000  252.000000  252.000000\n",
            "mean   133.638207  276.699405   48.026548\n",
            "std     12.178232   75.101410   11.597406\n",
            "min    105.840000  155.850000   32.420000\n",
            "25%    127.265000  201.677500   38.090000\n",
            "50%    137.040000  316.740000   44.475000\n",
            "75%    142.805000  340.807500   61.325000\n",
            "max    150.710000  382.180000   71.690000 \n",
            "\n"
          ]
        },
        {
          "output_type": "display_data",
          "data": {
            "text/plain": [
              "<Figure size 640x480 with 3 Axes>"
            ],
            "image/png": "[encoded data removed]"
          },
          "metadata": {}
        }
      ]
    },
    {
      "cell_type": "markdown",
      "source": [
        "#**4. Datos históricos: Período 10 años**\n",
        "\n",
        "Ya sabemos ahora que el valor máximo del precio de las tres acciones se produce en el año 2021, siendo el de mayor coste la acción de GOOG. Querremos ver la tendencia del precio pero por un período de 10 años.\n",
        "\n"
      ],
      "metadata": {
        "id": "B6yFPUPWITnR"
      }
    },
    {
      "cell_type": "code",
      "source": [
        "# descargamos el precio de cierre para las tres acciones de 10 años\n",
        "data_10_anios = tickers.history( period = '10y', interval = '1d', rounding = True)['Close']\n",
        "\n",
        "# Resumen de los datos\n",
        "print(data_10_anios.describe(),'\\n')\n",
        "\n",
        "# visualización del precio\n",
        "data_10_anios.plot(kind = 'line', title = 'Historical prices (10 years)', subplots= True)\n",
        "# mostrar el plot\n",
        "plt.show()"
      ],
      "metadata": {
        "colab": {
          "base_uri": "https://localhost:8080/",
          "height": 649
        },
        "id": "EL1QMASMFqFt",
        "outputId": "31426395-4773-4ada-8d0d-179842471b8f"
      },
      "execution_count": 9,
      "outputs": [
        {
          "output_type": "stream",
          "name": "stdout",
          "text": [
            "[*********************100%***********************]  3 of 3 completed\n",
            "              GOOG         META         TWTR\n",
            "count  2091.000000  2515.000000  2187.000000\n",
            "mean     62.220521   150.440636    35.742812\n",
            "std      34.302947    88.160106    14.222269\n",
            "min      24.560000    17.730000    14.010000\n",
            "25%      36.800000    77.915000    25.005000\n",
            "50%      53.620000   147.700000    34.860000\n",
            "75%      73.225000   194.595000    44.015000\n",
            "max     150.710000   382.180000    77.630000 \n",
            "\n"
          ]
        },
        {
          "output_type": "display_data",
          "data": {
            "text/plain": [
              "<Figure size 640x480 with 3 Axes>"
            ],
            "image/png": "[encoded data removed]"
          },
          "metadata": {}
        }
      ]
    },
    {
      "cell_type": "markdown",
      "source": [
        "# **5. Indicadores relacionados con acciones**\n",
        "\n",
        "Los indicadores son medidas de valoración de una empresa. En esta sección vamos a extraer la relación PE, Price to Book y la relación caja vs deuda. Estas estadísticas pueden ser útiles para determinar qué tan sobrevaluada o subvaluada está la empresa. También queremos saber si tienes más efectivo que deuda y para ello debemos tener los datos de la capitalización bursátil y el Valor de la empresa."
      ],
      "metadata": {
        "id": "Gn11oEdNLAuQ"
      }
    },
    {
      "cell_type": "markdown",
      "source": [
        "Para obtener algunos datos estadísticos podemos usar el método info usando la sintaxis de **yf.Ticker(stock).info**, con esta información podremos extraer algunos indicadores e información general de la empresa."
      ],
      "metadata": {
        "id": "BoehTQH7fFO2"
      }
    },
    {
      "cell_type": "code",
      "source": [
        "# Lista de tickets\n",
        "stocks = ['GOOG', 'META', 'TWTR']\n",
        "\n",
        "# Info por ticket\n",
        "info = []\n",
        "for stock in stocks:\n",
        "    info.append(yf.Ticker(stock).info)"
      ],
      "metadata": {
        "id": "T5rlTcJlLz3l"
      },
      "execution_count": 10,
      "outputs": []
    },
    {
      "cell_type": "code",
      "source": [
        "# Pasar los datos de info a un dataframe \n",
        "indicadores_df = pd.DataFrame(info).set_index('symbol').reset_index()\n"
      ],
      "metadata": {
        "id": "FjenbsImM7z4"
      },
      "execution_count": 11,
      "outputs": []
    },
    {
      "cell_type": "markdown",
      "source": [
        "#**6. Extraiga la relación PE, el precio contable, la capitalización de mercado y el valor empresarial**\n",
        "\n",
        "Ya hemos formado un dataframe con toda la información por acción, ahora solo vamos a extraer los datos que necesitamos con un filtro indicando las columnas de los indicadores."
      ],
      "metadata": {
        "id": "6fGEaItUfiBQ"
      }
    },
    {
      "cell_type": "code",
      "source": [
        "# Obtenemos los indicadores \n",
        "indicadores_df = indicadores_df[['symbol','trailingPE', 'priceToBook','marketCap','enterpriseValue']]\n",
        "indicadores_df"
      ],
      "metadata": {
        "colab": {
          "base_uri": "https://localhost:8080/",
          "height": 143
        },
        "id": "mxcLJFnccEVF",
        "outputId": "531e2acf-25f4-4292-f911-100e20a7496a"
      },
      "execution_count": 14,
      "outputs": [
        {
          "output_type": "execute_result",
          "data": {
            "text/plain": [
              "  symbol  trailingPE  priceToBook      marketCap  enterpriseValue\n",
              "0   GOOG   19.661896     5.335955  1440854179840    1379773054976\n",
              "1   META   12.583145     3.683075   452577853440     416499466240\n",
              "2   TWTR  147.730770     4.958048    29352192000      29152352256"
            ],
            "text/html": [
              "\n",
              "  <div id=\"df-abf06118-f3ea-4a70-8f09-5975cccf2c90\">\n",
              "    <div class=\"colab-df-container\">\n",
              "      <div>\n",
              "<style scoped>\n",
              "    .dataframe tbody tr th:only-of-type {\n",
              "        vertical-align: middle;\n",
              "    }\n",
              "\n",
              "    .dataframe tbody tr th {\n",
              "        vertical-align: top;\n",
              "    }\n",
              "\n",
              "    .dataframe thead th {\n",
              "        text-align: right;\n",
              "    }\n",
              "</style>\n",
              "<table border=\"1\" class=\"dataframe\">\n",
              "  <thead>\n",
              "    <tr style=\"text-align: right;\">\n",
              "      <th></th>\n",
              "      <th>symbol</th>\n",
              "      <th>trailingPE</th>\n",
              "      <th>priceToBook</th>\n",
              "      <th>marketCap</th>\n",
              "      <th>enterpriseValue</th>\n",
              "    </tr>\n",
              "  </thead>\n",
              "  <tbody>\n",
              "    <tr>\n",
              "      <th>0</th>\n",
              "      <td>GOOG</td>\n",
              "      <td>19.661896</td>\n",
              "      <td>5.335955</td>\n",
              "      <td>1440854179840</td>\n",
              "      <td>1379773054976</td>\n",
              "    </tr>\n",
              "    <tr>\n",
              "      <th>1</th>\n",
              "      <td>META</td>\n",
              "      <td>12.583145</td>\n",
              "      <td>3.683075</td>\n",
              "      <td>452577853440</td>\n",
              "      <td>416499466240</td>\n",
              "    </tr>\n",
              "    <tr>\n",
              "      <th>2</th>\n",
              "      <td>TWTR</td>\n",
              "      <td>147.730770</td>\n",
              "      <td>4.958048</td>\n",
              "      <td>29352192000</td>\n",
              "      <td>29152352256</td>\n",
              "    </tr>\n",
              "  </tbody>\n",
              "</table>\n",
              "</div>\n",
              "      <button class=\"colab-df-convert\" onclick=\"convertToInteractive('df-abf06118-f3ea-4a70-8f09-5975cccf2c90')\"\n",
              "              title=\"Convert this dataframe to an interactive table.\"\n",
              "              style=\"display:none;\">\n",
              "        \n",
              "  <svg xmlns=\"http://www.w3.org/2000/svg\" height=\"24px\"viewBox=\"0 0 24 24\"\n",
              "       width=\"24px\">\n",
              "    <path d=\"M0 0h24v24H0V0z\" fill=\"none\"/>\n",
              "    <path d=\"M18.56 5.44l.94 2.06.94-2.06 2.06-.94-2.06-.94-.94-2.06-.94 2.06-2.06.94zm-11 1L8.5 8.5l.94-2.06 2.06-.94-2.06-.94L8.5 2.5l-.94 2.06-2.06.94zm10 10l.94 2.06.94-2.06 2.06-.94-2.06-.94-.94-2.06-.94 2.06-2.06.94z\"/><path d=\"M17.41 7.96l-1.37-1.37c-.4-.4-.92-.59-1.43-.59-.52 0-1.04.2-1.43.59L10.3 9.45l-7.72 7.72c-.78.78-.78 2.05 0 2.83L4 21.41c.39.39.9.59 1.41.59.51 0 1.02-.2 1.41-.59l7.78-7.78 2.81-2.81c.8-.78.8-2.07 0-2.86zM5.41 20L4 18.59l7.72-7.72 1.47 1.35L5.41 20z\"/>\n",
              "  </svg>\n",
              "      </button>\n",
              "      \n",
              "  <style>\n",
              "    .colab-df-container {\n",
              "      display:flex;\n",
              "      flex-wrap:wrap;\n",
              "      gap: 12px;\n",
              "    }\n",
              "\n",
              "    .colab-df-convert {\n",
              "      background-color: #E8F0FE;\n",
              "      border: none;\n",
              "      border-radius: 50%;\n",
              "      cursor: pointer;\n",
              "      display: none;\n",
              "      fill: #1967D2;\n",
              "      height: 32px;\n",
              "      padding: 0 0 0 0;\n",
              "      width: 32px;\n",
              "    }\n",
              "\n",
              "    .colab-df-convert:hover {\n",
              "      background-color: #E2EBFA;\n",
              "      box-shadow: 0px 1px 2px rgba(60, 64, 67, 0.3), 0px 1px 3px 1px rgba(60, 64, 67, 0.15);\n",
              "      fill: #174EA6;\n",
              "    }\n",
              "\n",
              "    [theme=dark] .colab-df-convert {\n",
              "      background-color: #3B4455;\n",
              "      fill: #D2E3FC;\n",
              "    }\n",
              "\n",
              "    [theme=dark] .colab-df-convert:hover {\n",
              "      background-color: #434B5C;\n",
              "      box-shadow: 0px 1px 3px 1px rgba(0, 0, 0, 0.15);\n",
              "      filter: drop-shadow(0px 1px 2px rgba(0, 0, 0, 0.3));\n",
              "      fill: #FFFFFF;\n",
              "    }\n",
              "  </style>\n",
              "\n",
              "      <script>\n",
              "        const buttonEl =\n",
              "          document.querySelector('#df-abf06118-f3ea-4a70-8f09-5975cccf2c90 button.colab-df-convert');\n",
              "        buttonEl.style.display =\n",
              "          google.colab.kernel.accessAllowed ? 'block' : 'none';\n",
              "\n",
              "        async function convertToInteractive(key) {\n",
              "          const element = document.querySelector('#df-abf06118-f3ea-4a70-8f09-5975cccf2c90');\n",
              "          const dataTable =\n",
              "            await google.colab.kernel.invokeFunction('convertToInteractive',\n",
              "                                                     [key], {});\n",
              "          if (!dataTable) return;\n",
              "\n",
              "          const docLinkHtml = 'Like what you see? Visit the ' +\n",
              "            '<a target=\"_blank\" href=https://colab.research.google.com/notebooks/data_table.ipynb>data table notebook</a>'\n",
              "            + ' to learn more about interactive tables.';\n",
              "          element.innerHTML = '';\n",
              "          dataTable['output_type'] = 'display_data';\n",
              "          await google.colab.output.renderOutput(dataTable, element);\n",
              "          const docLink = document.createElement('div');\n",
              "          docLink.innerHTML = docLinkHtml;\n",
              "          element.appendChild(docLink);\n",
              "        }\n",
              "      </script>\n",
              "    </div>\n",
              "  </div>\n",
              "  "
            ]
          },
          "metadata": {},
          "execution_count": 14
        }
      ]
    },
    {
      "cell_type": "markdown",
      "source": [
        "#**7. Relación de efectivo vs. deuda**\n",
        "\n",
        "Teniendo unos indicadores que se pueden obtener directamente de la información que ofrece la API, vamos a ver si la empresa tiene más liquidez que deuda, para ello restamos el valor de la empresa a la capitalización bursátil. Si la capitalización de mercado es mayor que el valor de la empresa, significa que hay más efectivo que deuda.\n",
        "\n"
      ],
      "metadata": {
        "id": "-a-O2YE9cn3L"
      }
    },
    {
      "cell_type": "code",
      "source": [
        "# Agregar la columna cash vs debt\n",
        "indicadores_df['Cash vs Debt'] = indicadores_df['marketCap'].subtract(indicadores_df['enterpriseValue'])\n",
        "indicadores_df"
      ],
      "metadata": {
        "colab": {
          "base_uri": "https://localhost:8080/",
          "height": 143
        },
        "id": "YVMaUszTcoCX",
        "outputId": "f201e757-9f8a-4663-e313-064dac2e4fac"
      },
      "execution_count": 13,
      "outputs": [
        {
          "output_type": "execute_result",
          "data": {
            "text/plain": [
              "  symbol  trailingPE  priceToBook      marketCap  enterpriseValue  \\\n",
              "0   GOOG   19.661896     5.335955  1440854179840    1379773054976   \n",
              "1   META   12.583145     3.683075   452577853440     416499466240   \n",
              "2   TWTR  147.730770     4.958048    29352192000      29152352256   \n",
              "\n",
              "   Cash vs Debt  \n",
              "0   61081124864  \n",
              "1   36078387200  \n",
              "2     199839744  "
            ],
            "text/html": [
              "\n",
              "  <div id=\"df-d08d2ed3-e4dc-4c22-ac42-3ad78f7f8dc1\">\n",
              "    <div class=\"colab-df-container\">\n",
              "      <div>\n",
              "<style scoped>\n",
              "    .dataframe tbody tr th:only-of-type {\n",
              "        vertical-align: middle;\n",
              "    }\n",
              "\n",
              "    .dataframe tbody tr th {\n",
              "        vertical-align: top;\n",
              "    }\n",
              "\n",
              "    .dataframe thead th {\n",
              "        text-align: right;\n",
              "    }\n",
              "</style>\n",
              "<table border=\"1\" class=\"dataframe\">\n",
              "  <thead>\n",
              "    <tr style=\"text-align: right;\">\n",
              "      <th></th>\n",
              "      <th>symbol</th>\n",
              "      <th>trailingPE</th>\n",
              "      <th>priceToBook</th>\n",
              "      <th>marketCap</th>\n",
              "      <th>enterpriseValue</th>\n",
              "      <th>Cash vs Debt</th>\n",
              "    </tr>\n",
              "  </thead>\n",
              "  <tbody>\n",
              "    <tr>\n",
              "      <th>0</th>\n",
              "      <td>GOOG</td>\n",
              "      <td>19.661896</td>\n",
              "      <td>5.335955</td>\n",
              "      <td>1440854179840</td>\n",
              "      <td>1379773054976</td>\n",
              "      <td>61081124864</td>\n",
              "    </tr>\n",
              "    <tr>\n",
              "      <th>1</th>\n",
              "      <td>META</td>\n",
              "      <td>12.583145</td>\n",
              "      <td>3.683075</td>\n",
              "      <td>452577853440</td>\n",
              "      <td>416499466240</td>\n",
              "      <td>36078387200</td>\n",
              "    </tr>\n",
              "    <tr>\n",
              "      <th>2</th>\n",
              "      <td>TWTR</td>\n",
              "      <td>147.730770</td>\n",
              "      <td>4.958048</td>\n",
              "      <td>29352192000</td>\n",
              "      <td>29152352256</td>\n",
              "      <td>199839744</td>\n",
              "    </tr>\n",
              "  </tbody>\n",
              "</table>\n",
              "</div>\n",
              "      <button class=\"colab-df-convert\" onclick=\"convertToInteractive('df-d08d2ed3-e4dc-4c22-ac42-3ad78f7f8dc1')\"\n",
              "              title=\"Convert this dataframe to an interactive table.\"\n",
              "              style=\"display:none;\">\n",
              "        \n",
              "  <svg xmlns=\"http://www.w3.org/2000/svg\" height=\"24px\"viewBox=\"0 0 24 24\"\n",
              "       width=\"24px\">\n",
              "    <path d=\"M0 0h24v24H0V0z\" fill=\"none\"/>\n",
              "    <path d=\"M18.56 5.44l.94 2.06.94-2.06 2.06-.94-2.06-.94-.94-2.06-.94 2.06-2.06.94zm-11 1L8.5 8.5l.94-2.06 2.06-.94-2.06-.94L8.5 2.5l-.94 2.06-2.06.94zm10 10l.94 2.06.94-2.06 2.06-.94-2.06-.94-.94-2.06-.94 2.06-2.06.94z\"/><path d=\"M17.41 7.96l-1.37-1.37c-.4-.4-.92-.59-1.43-.59-.52 0-1.04.2-1.43.59L10.3 9.45l-7.72 7.72c-.78.78-.78 2.05 0 2.83L4 21.41c.39.39.9.59 1.41.59.51 0 1.02-.2 1.41-.59l7.78-7.78 2.81-2.81c.8-.78.8-2.07 0-2.86zM5.41 20L4 18.59l7.72-7.72 1.47 1.35L5.41 20z\"/>\n",
              "  </svg>\n",
              "      </button>\n",
              "      \n",
              "  <style>\n",
              "    .colab-df-container {\n",
              "      display:flex;\n",
              "      flex-wrap:wrap;\n",
              "      gap: 12px;\n",
              "    }\n",
              "\n",
              "    .colab-df-convert {\n",
              "      background-color: #E8F0FE;\n",
              "      border: none;\n",
              "      border-radius: 50%;\n",
              "      cursor: pointer;\n",
              "      display: none;\n",
              "      fill: #1967D2;\n",
              "      height: 32px;\n",
              "      padding: 0 0 0 0;\n",
              "      width: 32px;\n",
              "    }\n",
              "\n",
              "    .colab-df-convert:hover {\n",
              "      background-color: #E2EBFA;\n",
              "      box-shadow: 0px 1px 2px rgba(60, 64, 67, 0.3), 0px 1px 3px 1px rgba(60, 64, 67, 0.15);\n",
              "      fill: #174EA6;\n",
              "    }\n",
              "\n",
              "    [theme=dark] .colab-df-convert {\n",
              "      background-color: #3B4455;\n",
              "      fill: #D2E3FC;\n",
              "    }\n",
              "\n",
              "    [theme=dark] .colab-df-convert:hover {\n",
              "      background-color: #434B5C;\n",
              "      box-shadow: 0px 1px 3px 1px rgba(0, 0, 0, 0.15);\n",
              "      filter: drop-shadow(0px 1px 2px rgba(0, 0, 0, 0.3));\n",
              "      fill: #FFFFFF;\n",
              "    }\n",
              "  </style>\n",
              "\n",
              "      <script>\n",
              "        const buttonEl =\n",
              "          document.querySelector('#df-d08d2ed3-e4dc-4c22-ac42-3ad78f7f8dc1 button.colab-df-convert');\n",
              "        buttonEl.style.display =\n",
              "          google.colab.kernel.accessAllowed ? 'block' : 'none';\n",
              "\n",
              "        async function convertToInteractive(key) {\n",
              "          const element = document.querySelector('#df-d08d2ed3-e4dc-4c22-ac42-3ad78f7f8dc1');\n",
              "          const dataTable =\n",
              "            await google.colab.kernel.invokeFunction('convertToInteractive',\n",
              "                                                     [key], {});\n",
              "          if (!dataTable) return;\n",
              "\n",
              "          const docLinkHtml = 'Like what you see? Visit the ' +\n",
              "            '<a target=\"_blank\" href=https://colab.research.google.com/notebooks/data_table.ipynb>data table notebook</a>'\n",
              "            + ' to learn more about interactive tables.';\n",
              "          element.innerHTML = '';\n",
              "          dataTable['output_type'] = 'display_data';\n",
              "          await google.colab.output.renderOutput(dataTable, element);\n",
              "          const docLink = document.createElement('div');\n",
              "          docLink.innerHTML = docLinkHtml;\n",
              "          element.appendChild(docLink);\n",
              "        }\n",
              "      </script>\n",
              "    </div>\n",
              "  </div>\n",
              "  "
            ]
          },
          "metadata": {},
          "execution_count": 13
        }
      ]
    },
    {
      "cell_type": "markdown",
      "source": [
        "Una vez extraídos los indicadores podremos tener una impresión de la sobrevaloración o infravaloración de la acción. Podemos ver el caso particular donde Twitter tiene un PE exagerado respecto a su competencia, es decir, está sobrevalorado y es la acción que menos efectivo tiene. Goog y Meta, por otro lado, muestran indicadores saludables, están dentro del promedio y podrían requerir ser infravalorados por tener una relación PE más baja, especialmente las acciones de Meta."
      ],
      "metadata": {
        "id": "nhcx13mIhId4"
      }
    },
    {
      "cell_type": "markdown",
      "source": [
        "#**8. Obtener el Estado de Resultados por acción seleccionada por medio de interacción con el usuario**\n",
        " \n",
        "También es muy importante revisar las finanzas de la empresa, ver su estado de resultados y entender más de la operativa del negocio. Para obtener el income statement podemos usar el método ***financials***, para este caso vamos a extraer datos anuales.\n",
        "\n"
      ],
      "metadata": {
        "id": "VKFx81Idf7ZK"
      }
    },
    {
      "cell_type": "code",
      "source": [
        "#creamos una función para obtener los datos que necesitamos del income statement\n",
        "def get_income_statement(ticker):\n",
        "    datos= ['Total Revenue',  'Gross Profit','Operating Income', 'Net Income']\n",
        "    financials = yf.Ticker(ticker).financials.T\n",
        "    income_df = financials[datos].rename_axis('Date')\n",
        "    return income_df"
      ],
      "metadata": {
        "id": "fzNo4xeDgDXS"
      },
      "execution_count": 128,
      "outputs": []
    },
    {
      "cell_type": "code",
      "source": [
        "# Diccionario que contendra los income statement de las acciones\n",
        "dictionary_income = {}\n",
        "for stock in stocks:\n",
        "    dictionary_income[stock] = get_income_statement(stock)"
      ],
      "metadata": {
        "id": "TKFBQpEXwy6C"
      },
      "execution_count": 119,
      "outputs": []
    },
    {
      "cell_type": "code",
      "source": [
        "# Para obtener el income de un stock debemos colocar el ticket de interés\n",
        "\n",
        "stock_seleccionado = input('Ingrese stock de interés, las opciones son ' + str(stocks[:])+' = ')\n",
        "income_stock  = dictionary_income[stock_seleccionado]\n",
        "\n",
        "\n",
        "income_stock"
      ],
      "metadata": {
        "colab": {
          "base_uri": "https://localhost:8080/",
          "height": 224
        },
        "id": "zt8GF1zqr-Jt",
        "outputId": "51a329c6-b999-4e35-9b79-f2e746ed047c"
      },
      "execution_count": 125,
      "outputs": [
        {
          "name": "stdout",
          "output_type": "stream",
          "text": [
            "Ingrese stock de interes, las opciones son ['GOOG', 'META', 'TWTR'] = GOOG\n"
          ]
        },
        {
          "output_type": "execute_result",
          "data": {
            "text/plain": [
              "             Total Revenue    Gross Profit Operating Income     Net Income\n",
              "Date                                                                      \n",
              "2021-12-31  257637000000.0  146698000000.0    78714000000.0  76033000000.0\n",
              "2020-12-31  182527000000.0   97795000000.0    41224000000.0  40269000000.0\n",
              "2019-12-31  161857000000.0   89961000000.0    35928000000.0  34343000000.0\n",
              "2018-12-31  136819000000.0   77270000000.0    32595000000.0  30736000000.0"
            ],
            "text/html": [
              "\n",
              "  <div id=\"df-c9e6beb7-e9b2-40ca-9d83-045f363ab189\">\n",
              "    <div class=\"colab-df-container\">\n",
              "      <div>\n",
              "<style scoped>\n",
              "    .dataframe tbody tr th:only-of-type {\n",
              "        vertical-align: middle;\n",
              "    }\n",
              "\n",
              "    .dataframe tbody tr th {\n",
              "        vertical-align: top;\n",
              "    }\n",
              "\n",
              "    .dataframe thead th {\n",
              "        text-align: right;\n",
              "    }\n",
              "</style>\n",
              "<table border=\"1\" class=\"dataframe\">\n",
              "  <thead>\n",
              "    <tr style=\"text-align: right;\">\n",
              "      <th></th>\n",
              "      <th>Total Revenue</th>\n",
              "      <th>Gross Profit</th>\n",
              "      <th>Operating Income</th>\n",
              "      <th>Net Income</th>\n",
              "    </tr>\n",
              "    <tr>\n",
              "      <th>Date</th>\n",
              "      <th></th>\n",
              "      <th></th>\n",
              "      <th></th>\n",
              "      <th></th>\n",
              "    </tr>\n",
              "  </thead>\n",
              "  <tbody>\n",
              "    <tr>\n",
              "      <th>2021-12-31</th>\n",
              "      <td>257637000000.0</td>\n",
              "      <td>146698000000.0</td>\n",
              "      <td>78714000000.0</td>\n",
              "      <td>76033000000.0</td>\n",
              "    </tr>\n",
              "    <tr>\n",
              "      <th>2020-12-31</th>\n",
              "      <td>182527000000.0</td>\n",
              "      <td>97795000000.0</td>\n",
              "      <td>41224000000.0</td>\n",
              "      <td>40269000000.0</td>\n",
              "    </tr>\n",
              "    <tr>\n",
              "      <th>2019-12-31</th>\n",
              "      <td>161857000000.0</td>\n",
              "      <td>89961000000.0</td>\n",
              "      <td>35928000000.0</td>\n",
              "      <td>34343000000.0</td>\n",
              "    </tr>\n",
              "    <tr>\n",
              "      <th>2018-12-31</th>\n",
              "      <td>136819000000.0</td>\n",
              "      <td>77270000000.0</td>\n",
              "      <td>32595000000.0</td>\n",
              "      <td>30736000000.0</td>\n",
              "    </tr>\n",
              "  </tbody>\n",
              "</table>\n",
              "</div>\n",
              "      <button class=\"colab-df-convert\" onclick=\"convertToInteractive('df-c9e6beb7-e9b2-40ca-9d83-045f363ab189')\"\n",
              "              title=\"Convert this dataframe to an interactive table.\"\n",
              "              style=\"display:none;\">\n",
              "        \n",
              "  <svg xmlns=\"http://www.w3.org/2000/svg\" height=\"24px\"viewBox=\"0 0 24 24\"\n",
              "       width=\"24px\">\n",
              "    <path d=\"M0 0h24v24H0V0z\" fill=\"none\"/>\n",
              "    <path d=\"M18.56 5.44l.94 2.06.94-2.06 2.06-.94-2.06-.94-.94-2.06-.94 2.06-2.06.94zm-11 1L8.5 8.5l.94-2.06 2.06-.94-2.06-.94L8.5 2.5l-.94 2.06-2.06.94zm10 10l.94 2.06.94-2.06 2.06-.94-2.06-.94-.94-2.06-.94 2.06-2.06.94z\"/><path d=\"M17.41 7.96l-1.37-1.37c-.4-.4-.92-.59-1.43-.59-.52 0-1.04.2-1.43.59L10.3 9.45l-7.72 7.72c-.78.78-.78 2.05 0 2.83L4 21.41c.39.39.9.59 1.41.59.51 0 1.02-.2 1.41-.59l7.78-7.78 2.81-2.81c.8-.78.8-2.07 0-2.86zM5.41 20L4 18.59l7.72-7.72 1.47 1.35L5.41 20z\"/>\n",
              "  </svg>\n",
              "      </button>\n",
              "      \n",
              "  <style>\n",
              "    .colab-df-container {\n",
              "      display:flex;\n",
              "      flex-wrap:wrap;\n",
              "      gap: 12px;\n",
              "    }\n",
              "\n",
              "    .colab-df-convert {\n",
              "      background-color: #E8F0FE;\n",
              "      border: none;\n",
              "      border-radius: 50%;\n",
              "      cursor: pointer;\n",
              "      display: none;\n",
              "      fill: #1967D2;\n",
              "      height: 32px;\n",
              "      padding: 0 0 0 0;\n",
              "      width: 32px;\n",
              "    }\n",
              "\n",
              "    .colab-df-convert:hover {\n",
              "      background-color: #E2EBFA;\n",
              "      box-shadow: 0px 1px 2px rgba(60, 64, 67, 0.3), 0px 1px 3px 1px rgba(60, 64, 67, 0.15);\n",
              "      fill: #174EA6;\n",
              "    }\n",
              "\n",
              "    [theme=dark] .colab-df-convert {\n",
              "      background-color: #3B4455;\n",
              "      fill: #D2E3FC;\n",
              "    }\n",
              "\n",
              "    [theme=dark] .colab-df-convert:hover {\n",
              "      background-color: #434B5C;\n",
              "      box-shadow: 0px 1px 3px 1px rgba(0, 0, 0, 0.15);\n",
              "      filter: drop-shadow(0px 1px 2px rgba(0, 0, 0, 0.3));\n",
              "      fill: #FFFFFF;\n",
              "    }\n",
              "  </style>\n",
              "\n",
              "      <script>\n",
              "        const buttonEl =\n",
              "          document.querySelector('#df-c9e6beb7-e9b2-40ca-9d83-045f363ab189 button.colab-df-convert');\n",
              "        buttonEl.style.display =\n",
              "          google.colab.kernel.accessAllowed ? 'block' : 'none';\n",
              "\n",
              "        async function convertToInteractive(key) {\n",
              "          const element = document.querySelector('#df-c9e6beb7-e9b2-40ca-9d83-045f363ab189');\n",
              "          const dataTable =\n",
              "            await google.colab.kernel.invokeFunction('convertToInteractive',\n",
              "                                                     [key], {});\n",
              "          if (!dataTable) return;\n",
              "\n",
              "          const docLinkHtml = 'Like what you see? Visit the ' +\n",
              "            '<a target=\"_blank\" href=https://colab.research.google.com/notebooks/data_table.ipynb>data table notebook</a>'\n",
              "            + ' to learn more about interactive tables.';\n",
              "          element.innerHTML = '';\n",
              "          dataTable['output_type'] = 'display_data';\n",
              "          await google.colab.output.renderOutput(dataTable, element);\n",
              "          const docLink = document.createElement('div');\n",
              "          docLink.innerHTML = docLinkHtml;\n",
              "          element.appendChild(docLink);\n",
              "        }\n",
              "      </script>\n",
              "    </div>\n",
              "  </div>\n",
              "  "
            ]
          },
          "metadata": {},
          "execution_count": 125
        }
      ]
    },
    {
      "cell_type": "markdown",
      "source": [
        "#**9. Indicadores de Rentabilidad**\n",
        "\n",
        "Vamos a calcular el margen bruto, margen operacional y margen neto. Estos indicadores de rentabilidad nos permiten calcular las utilidades en las diferentes etapas del estado de resultados. Lo vamos a calcular usando el dataframe por stock."
      ],
      "metadata": {
        "id": "TRuAn4P_sFNP"
      }
    },
    {
      "cell_type": "code",
      "source": [
        "# income del stock de ticket selecionado con indicadores de rentabilidad\n",
        "indicadores_rent= income_stock.copy()\n",
        "indicadores_rent['% Margen Bruto'] = indicadores_rent['Gross Profit'].div(indicadores_rent['Total Revenue'])*100\n",
        "indicadores_rent['% Margen Operacional'] = indicadores_rent['Operating Income'].div(indicadores_rent['Total Revenue'])*100\n",
        "indicadores_rent['% Margen Neto'] = indicadores_rent['Net Income'].div(indicadores_rent['Total Revenue'])*100\n",
        "indicadores_rent"
      ],
      "metadata": {
        "colab": {
          "base_uri": "https://localhost:8080/",
          "height": 206
        },
        "id": "CreJrzw2i72G",
        "outputId": "1dbb74d1-26cb-400e-e733-537932853ba2"
      },
      "execution_count": 127,
      "outputs": [
        {
          "output_type": "execute_result",
          "data": {
            "text/plain": [
              "             Total Revenue    Gross Profit Operating Income     Net Income  \\\n",
              "Date                                                                         \n",
              "2021-12-31  257637000000.0  146698000000.0    78714000000.0  76033000000.0   \n",
              "2020-12-31  182527000000.0   97795000000.0    41224000000.0  40269000000.0   \n",
              "2019-12-31  161857000000.0   89961000000.0    35928000000.0  34343000000.0   \n",
              "2018-12-31  136819000000.0   77270000000.0    32595000000.0  30736000000.0   \n",
              "\n",
              "           % Margen Bruto % Margen Operacional % Margen Neto  \n",
              "Date                                                          \n",
              "2021-12-31      56.939803            30.552289     29.511677  \n",
              "2020-12-31      53.578375            22.585152     22.061942  \n",
              "2019-12-31      55.580543            22.197372     21.218112  \n",
              "2018-12-31      56.476074            23.823446     22.464716  "
            ],
            "text/html": [
              "\n",
              "  <div id=\"df-ae184c39-d5a3-401a-9cda-19ff1f174790\">\n",
              "    <div class=\"colab-df-container\">\n",
              "      <div>\n",
              "<style scoped>\n",
              "    .dataframe tbody tr th:only-of-type {\n",
              "        vertical-align: middle;\n",
              "    }\n",
              "\n",
              "    .dataframe tbody tr th {\n",
              "        vertical-align: top;\n",
              "    }\n",
              "\n",
              "    .dataframe thead th {\n",
              "        text-align: right;\n",
              "    }\n",
              "</style>\n",
              "<table border=\"1\" class=\"dataframe\">\n",
              "  <thead>\n",
              "    <tr style=\"text-align: right;\">\n",
              "      <th></th>\n",
              "      <th>Total Revenue</th>\n",
              "      <th>Gross Profit</th>\n",
              "      <th>Operating Income</th>\n",
              "      <th>Net Income</th>\n",
              "      <th>% Margen Bruto</th>\n",
              "      <th>% Margen Operacional</th>\n",
              "      <th>% Margen Neto</th>\n",
              "    </tr>\n",
              "    <tr>\n",
              "      <th>Date</th>\n",
              "      <th></th>\n",
              "      <th></th>\n",
              "      <th></th>\n",
              "      <th></th>\n",
              "      <th></th>\n",
              "      <th></th>\n",
              "      <th></th>\n",
              "    </tr>\n",
              "  </thead>\n",
              "  <tbody>\n",
              "    <tr>\n",
              "      <th>2021-12-31</th>\n",
              "      <td>257637000000.0</td>\n",
              "      <td>146698000000.0</td>\n",
              "      <td>78714000000.0</td>\n",
              "      <td>76033000000.0</td>\n",
              "      <td>56.939803</td>\n",
              "      <td>30.552289</td>\n",
              "      <td>29.511677</td>\n",
              "    </tr>\n",
              "    <tr>\n",
              "      <th>2020-12-31</th>\n",
              "      <td>182527000000.0</td>\n",
              "      <td>97795000000.0</td>\n",
              "      <td>41224000000.0</td>\n",
              "      <td>40269000000.0</td>\n",
              "      <td>53.578375</td>\n",
              "      <td>22.585152</td>\n",
              "      <td>22.061942</td>\n",
              "    </tr>\n",
              "    <tr>\n",
              "      <th>2019-12-31</th>\n",
              "      <td>161857000000.0</td>\n",
              "      <td>89961000000.0</td>\n",
              "      <td>35928000000.0</td>\n",
              "      <td>34343000000.0</td>\n",
              "      <td>55.580543</td>\n",
              "      <td>22.197372</td>\n",
              "      <td>21.218112</td>\n",
              "    </tr>\n",
              "    <tr>\n",
              "      <th>2018-12-31</th>\n",
              "      <td>136819000000.0</td>\n",
              "      <td>77270000000.0</td>\n",
              "      <td>32595000000.0</td>\n",
              "      <td>30736000000.0</td>\n",
              "      <td>56.476074</td>\n",
              "      <td>23.823446</td>\n",
              "      <td>22.464716</td>\n",
              "    </tr>\n",
              "  </tbody>\n",
              "</table>\n",
              "</div>\n",
              "      <button class=\"colab-df-convert\" onclick=\"convertToInteractive('df-ae184c39-d5a3-401a-9cda-19ff1f174790')\"\n",
              "              title=\"Convert this dataframe to an interactive table.\"\n",
              "              style=\"display:none;\">\n",
              "        \n",
              "  <svg xmlns=\"http://www.w3.org/2000/svg\" height=\"24px\"viewBox=\"0 0 24 24\"\n",
              "       width=\"24px\">\n",
              "    <path d=\"M0 0h24v24H0V0z\" fill=\"none\"/>\n",
              "    <path d=\"M18.56 5.44l.94 2.06.94-2.06 2.06-.94-2.06-.94-.94-2.06-.94 2.06-2.06.94zm-11 1L8.5 8.5l.94-2.06 2.06-.94-2.06-.94L8.5 2.5l-.94 2.06-2.06.94zm10 10l.94 2.06.94-2.06 2.06-.94-2.06-.94-.94-2.06-.94 2.06-2.06.94z\"/><path d=\"M17.41 7.96l-1.37-1.37c-.4-.4-.92-.59-1.43-.59-.52 0-1.04.2-1.43.59L10.3 9.45l-7.72 7.72c-.78.78-.78 2.05 0 2.83L4 21.41c.39.39.9.59 1.41.59.51 0 1.02-.2 1.41-.59l7.78-7.78 2.81-2.81c.8-.78.8-2.07 0-2.86zM5.41 20L4 18.59l7.72-7.72 1.47 1.35L5.41 20z\"/>\n",
              "  </svg>\n",
              "      </button>\n",
              "      \n",
              "  <style>\n",
              "    .colab-df-container {\n",
              "      display:flex;\n",
              "      flex-wrap:wrap;\n",
              "      gap: 12px;\n",
              "    }\n",
              "\n",
              "    .colab-df-convert {\n",
              "      background-color: #E8F0FE;\n",
              "      border: none;\n",
              "      border-radius: 50%;\n",
              "      cursor: pointer;\n",
              "      display: none;\n",
              "      fill: #1967D2;\n",
              "      height: 32px;\n",
              "      padding: 0 0 0 0;\n",
              "      width: 32px;\n",
              "    }\n",
              "\n",
              "    .colab-df-convert:hover {\n",
              "      background-color: #E2EBFA;\n",
              "      box-shadow: 0px 1px 2px rgba(60, 64, 67, 0.3), 0px 1px 3px 1px rgba(60, 64, 67, 0.15);\n",
              "      fill: #174EA6;\n",
              "    }\n",
              "\n",
              "    [theme=dark] .colab-df-convert {\n",
              "      background-color: #3B4455;\n",
              "      fill: #D2E3FC;\n",
              "    }\n",
              "\n",
              "    [theme=dark] .colab-df-convert:hover {\n",
              "      background-color: #434B5C;\n",
              "      box-shadow: 0px 1px 3px 1px rgba(0, 0, 0, 0.15);\n",
              "      filter: drop-shadow(0px 1px 2px rgba(0, 0, 0, 0.3));\n",
              "      fill: #FFFFFF;\n",
              "    }\n",
              "  </style>\n",
              "\n",
              "      <script>\n",
              "        const buttonEl =\n",
              "          document.querySelector('#df-ae184c39-d5a3-401a-9cda-19ff1f174790 button.colab-df-convert');\n",
              "        buttonEl.style.display =\n",
              "          google.colab.kernel.accessAllowed ? 'block' : 'none';\n",
              "\n",
              "        async function convertToInteractive(key) {\n",
              "          const element = document.querySelector('#df-ae184c39-d5a3-401a-9cda-19ff1f174790');\n",
              "          const dataTable =\n",
              "            await google.colab.kernel.invokeFunction('convertToInteractive',\n",
              "                                                     [key], {});\n",
              "          if (!dataTable) return;\n",
              "\n",
              "          const docLinkHtml = 'Like what you see? Visit the ' +\n",
              "            '<a target=\"_blank\" href=https://colab.research.google.com/notebooks/data_table.ipynb>data table notebook</a>'\n",
              "            + ' to learn more about interactive tables.';\n",
              "          element.innerHTML = '';\n",
              "          dataTable['output_type'] = 'display_data';\n",
              "          await google.colab.output.renderOutput(dataTable, element);\n",
              "          const docLink = document.createElement('div');\n",
              "          docLink.innerHTML = docLinkHtml;\n",
              "          element.appendChild(docLink);\n",
              "        }\n",
              "      </script>\n",
              "    </div>\n",
              "  </div>\n",
              "  "
            ]
          },
          "metadata": {},
          "execution_count": 127
        }
      ]
    },
    {
      "cell_type": "markdown",
      "source": [
        "#**10. Conclusión**\n",
        " \n",
        "Meta es la acción que muestra los mejores indicadores, tanto en términos de rentabilidad como de valoración, es una acción infravalorada, es decir, está barata en este momento. Google también es una empresa que muestra finanzas saludables con un precio asequible debido a la división de julio de 2022. Por el contrario, Twitter ha mostrado pérdidas, está infravalorado y la bolsa no ha mostrado un crecimiento apreciable.\n",
        " \n",
        "Hacer uso de los indicadores financieros y la información pública de las empresas cotizadas es muy importante antes de tomar una decisión de inversión, ya que nos permite evaluar diferentes escenarios en los que podemos descubrir qué tan eficiente es una empresa.\n",
        " \n"
      ],
      "metadata": {
        "id": "QyBe-0PhvOOj"
      }
    }
  ]
}